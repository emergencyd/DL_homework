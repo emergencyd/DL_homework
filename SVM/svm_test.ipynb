{
 "cells": [
  {
   "cell_type": "code",
   "execution_count": null,
   "metadata": {},
   "outputs": [],
   "source": [
    "import numpy as np\n",
    "import Ipynb_importer\n",
    "from SVM import *\n",
    "from plotBoundary import plotDecisionBoundary\n",
    "import matplotlib.pyplot as plt\n",
    "%matplotlib qt5"
   ]
  },
  {
   "cell_type": "code",
   "execution_count": null,
   "metadata": {},
   "outputs": [],
   "source": [
    "def predictSVM(X, SVM_dict):\n",
    "    '''\n",
    "    Args:\n",
    "        X: testing data, N x 2\n",
    "        (SVM_dict['sv_x'], SVM_dict['sv_y']): support vector, (n x 2, n x 1)\n",
    "        SVM_dict{'sv_alpha'}: pre_coefficients, n x 1\n",
    "        SVM_dict['kernel']: choosed kernel\n",
    "    Returns:\n",
    "        Y_pre: predited labels, n x 1\n",
    "    '''\n",
    "    X = X.reshape(-1, 2)\n",
    "    x_kernel = kernel_cal(SVM_dict['sv_x'], X, SVM_dict['kernel'], SVM_dict['gama']) # n x N\n",
    "    y0 = SVM_dict['sv_y'] * SVM_dict['sv_alpha'] # n x 1\n",
    "    y1 = np.dot(x_kernel.transpose(), y0)\n",
    "    Y_pre = np.sign(y1)\n",
    "    return Y_pre"
   ]
  },
  {
   "cell_type": "code",
   "execution_count": null,
   "metadata": {},
   "outputs": [],
   "source": [
    "# parameters\n",
    "name = '4'\n",
    "C_range = [0.01, 0.1, 1, 10, 100]\n",
    "pick = 0.01\n",
    "gama = 0.01\n",
    "\n",
    "# training data\n",
    "train = np.loadtxt('data/data' + name + '_train.csv')\n",
    "X_train = train[:, 0:2]\n",
    "X_train = np.concatenate((X_train, 1.0 * np.ones([X_train.shape[0], 1])), axis=1) # n x 3\n",
    "Y_train = train[:, 2:3]\n",
    "\n",
    "# test data\n",
    "test = np.loadtxt('data/data' + name + '_test.csv')\n",
    "X_test = test[:, 0:2]\n",
    "Y_test = test[:, 2:3]\n",
    "\n",
    "for kernel in ['linear', 'RBF']:\n",
    "    for C in C_range:    \n",
    "        SVM_dict = SVM_cal(X_train, Y_train, C, kernel, gama, pick)\n",
    "\n",
    "        # Plot boundary (training)\n",
    "        title = 'SVM Training for ' + kernel + ' kernel(C = ' + str(C) + '), SV number = ' + str(len(SVM_dict['sv_y']))\n",
    "        plotDecisionBoundary(X_train, Y_train, SVM_dict, predictSVM, [-1, 0, 1], title)\n",
    "\n",
    "        # Prediction (validation)\n",
    "        Y_predict = predictSVM(X_test, SVM_dict)\n",
    "        loc = np.where(Y_test == Y_predict)\n",
    "        loc = np.array(loc)\n",
    "        acc = len(loc[0,:]) / len(Y_predict)           \n",
    "        title = 'SVM Test for ' + kernel + ' kernel(C = ' + str(C) + '), Accuracy = ' + str(acc * 100) + '%'\n",
    "        plotDecisionBoundary(X_test, Y_test, SVM_dict, predictSVM, [-1, 0, 1], title)\n",
    "            "
   ]
  },
  {
   "cell_type": "code",
   "execution_count": null,
   "metadata": {},
   "outputs": [],
   "source": []
  }
 ],
 "metadata": {
  "kernelspec": {
   "display_name": "Python 3",
   "language": "python",
   "name": "python3"
  },
  "language_info": {
   "codemirror_mode": {
    "name": "ipython",
    "version": 3
   },
   "file_extension": ".py",
   "mimetype": "text/x-python",
   "name": "python",
   "nbconvert_exporter": "python",
   "pygments_lexer": "ipython3",
   "version": "3.6.5"
  }
 },
 "nbformat": 4,
 "nbformat_minor": 2
}
