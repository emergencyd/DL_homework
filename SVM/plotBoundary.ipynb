{
 "cells": [
  {
   "cell_type": "code",
   "execution_count": null,
   "metadata": {},
   "outputs": [],
   "source": [
    "import pdb\n",
    "from numpy import *\n",
    "import pylab as pl"
   ]
  },
  {
   "cell_type": "code",
   "execution_count": null,
   "metadata": {},
   "outputs": [],
   "source": [
    "# X is data matrix (each row is a data point)\n",
    "# Y is desired output (1 or -1)\n",
    "# scoreFn is a function of a data point\n",
    "# values is a list of values to plot"
   ]
  },
  {
   "cell_type": "code",
   "execution_count": null,
   "metadata": {},
   "outputs": [],
   "source": [
    "def plotDecisionBoundary(X, Y, SVM_dict, scoreFn, values, title):\n",
    "    # Plot the decision boundary. For that, we will asign a score to\n",
    "    # each point in the mesh [x_min, m_max]x[y_min, y_max].\n",
    "    x_min, x_max = X[:, 0].min() - 1, X[:, 0].max() + 1\n",
    "    y_min, y_max = X[:, 1].min() - 1, X[:, 1].max() + 1\n",
    "    h = max((x_max-x_min)/200., (y_max-y_min)/200.)\n",
    "    xx, yy = meshgrid(arange(x_min, x_max, h),\n",
    "                      arange(y_min, y_max, h))\n",
    "    zz = array([scoreFn(x, SVM_dict) for x in c_[xx.ravel(), yy.ravel()]])\n",
    "    zz = zz.reshape(xx.shape)\n",
    "    pl.figure()\n",
    "    CS = pl.contour(xx, yy, zz, values, colors = 'green', linestyles = 'solid', linewidths = 2)\n",
    "    pl.clabel(CS, fontsize=9, inline=1)\n",
    "    # Plot the training points\n",
    "    pl.scatter(X[:, 0], X[:, 1], c=(1.-Y).reshape(X[:, 0].shape), s=50, cmap = pl.cm.cool)\n",
    "    pl.title(title)\n",
    "    pl.axis('tight')\n",
    "    return 'Done'"
   ]
  }
 ],
 "metadata": {
  "kernelspec": {
   "display_name": "Python 3",
   "language": "python",
   "name": "python3"
  },
  "language_info": {
   "codemirror_mode": {
    "name": "ipython",
    "version": 3
   },
   "file_extension": ".py",
   "mimetype": "text/x-python",
   "name": "python",
   "nbconvert_exporter": "python",
   "pygments_lexer": "ipython3",
   "version": "3.6.5"
  }
 },
 "nbformat": 4,
 "nbformat_minor": 2
}
