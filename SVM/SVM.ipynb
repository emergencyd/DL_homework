{
 "cells": [
  {
   "cell_type": "code",
   "execution_count": null,
   "metadata": {},
   "outputs": [],
   "source": [
    "from cvxopt import matrix\n",
    "from cvxopt import solvers\n",
    "import numpy as np"
   ]
  },
  {
   "cell_type": "code",
   "execution_count": null,
   "metadata": {},
   "outputs": [],
   "source": [
    "def kernel_cal(X, Y, choose, gama=0.1):\n",
    "    '''\n",
    "    Args:\n",
    "        X: m1 x n\n",
    "        Y: m2 x n\n",
    "        choose: choosen kernel, 'linear' or 'RBF'\n",
    "        gama: parameter for Guassian kernel, default 0.1\n",
    "    Returns:\n",
    "        K: m1 x m2\n",
    "    '''\n",
    "    if choose == 'linear':\n",
    "        K = np.inner(X, Y)\n",
    "    elif choose == 'RBF': \n",
    "        K = np.ones((X.shape[0], Y.shape[0]))\n",
    "        for i in range(X.shape[0]):\n",
    "            for j in range(Y.shape[0]):\n",
    "                K[i, j] = np.exp(-gama * np.linalg.norm(X[i, :] - Y[j, :]) ** 2)\n",
    "    else:\n",
    "        print('please choose the kernel')\n",
    "    return K"
   ]
  },
  {
   "cell_type": "code",
   "execution_count": null,
   "metadata": {},
   "outputs": [],
   "source": [
    "def SVM_cal(X, Y, C, kernel, gama=0.01, pick=0.01):\n",
    "    '''\n",
    "    Args:\n",
    "        X: training data, n x 3\n",
    "        Y: training label, n x 1\n",
    "        C: soft scale\n",
    "        kernel: choosed kernel type, 'linear' or 'RBF'\n",
    "        pick: alpha > pick, x is SV\n",
    "    Returns:\n",
    "        (sv_x, sv_y): support vector, (n x 2, n x 1)\n",
    "        sv_alpha: pre_coefficients, n x 1\n",
    "    '''\n",
    "    # alpha n x 1\n",
    "    n_sample = X.shape[0]\n",
    "    x_kernel = kernel_cal(X, X, kernel, gama)\n",
    "    y_out = np.outer(Y, Y) # n x n\n",
    "    P = matrix(y_out * x_kernel) # n x n\n",
    "    Q = matrix(-1 * np.ones((n_sample, 1))) # n x 1\n",
    "    b = matrix(0.0)\n",
    "    A = matrix(Y.transpose()) # 1 x n\n",
    "    G_C = matrix(np.diag(np.ones(n_sample)))\n",
    "    G_0 = matrix(np.diag(-1 * np.ones(n_sample)))\n",
    "    h_C = matrix(C * np.ones((n_sample, 1)))\n",
    "    h_0 = matrix(np.zeros((n_sample, 1)))\n",
    "    G = matrix(np.vstack((G_C, G_0))) # 2n x n\n",
    "    h = matrix(np.vstack((h_C, h_0))) # 2n x 1\n",
    "    result = solvers.qp(P, Q, G, h, A, b)\n",
    "    solvers.options['show_progress'] = False\n",
    "    # calculate alpha\n",
    "    alpha = result['x']\n",
    "    alpha = np.asarray(alpha) # n x 1\n",
    "    # choose SV\n",
    "    loc = np.where(alpha > pick)\n",
    "    sv_x = X[loc, 0: 2]\n",
    "    sv_y = Y[loc, :]\n",
    "    sv_alpha = alpha[loc, :]\n",
    "    SVM_dict = {'sv_x': sv_x[0, :, :], 'sv_y': sv_y[0, :, :], 'sv_alpha': sv_alpha[0, :, :], 'kernel': kernel, 'gama': gama}\n",
    "    return SVM_dict"
   ]
  },
  {
   "cell_type": "code",
   "execution_count": null,
   "metadata": {},
   "outputs": [],
   "source": []
  }
 ],
 "metadata": {
  "kernelspec": {
   "display_name": "Python 3",
   "language": "python",
   "name": "python3"
  },
  "language_info": {
   "codemirror_mode": {
    "name": "ipython",
    "version": 3
   },
   "file_extension": ".py",
   "mimetype": "text/x-python",
   "name": "python",
   "nbconvert_exporter": "python",
   "pygments_lexer": "ipython3",
   "version": "3.6.5"
  }
 },
 "nbformat": 4,
 "nbformat_minor": 2
}
