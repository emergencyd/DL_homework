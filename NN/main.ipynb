{
 "cells": [
  {
   "cell_type": "code",
   "execution_count": null,
   "metadata": {},
   "outputs": [],
   "source": [
    "import numpy as np\n",
    "from sympy import Symbol\n",
    "from collections import deque"
   ]
  },
  {
   "cell_type": "code",
   "execution_count": null,
   "metadata": {},
   "outputs": [],
   "source": [
    "# parameter\n",
    "name = 1 # data pick\n",
    "hid_num = 2\n",
    "node = [5, 5]\n",
    "iter_num = 1000\n",
    "show_time = 50 \n",
    "alpha = 1 # gradient extent"
   ]
  },
  {
   "cell_type": "code",
   "execution_count": null,
   "metadata": {},
   "outputs": [],
   "source": [
    "# load trainning data\n",
    "train = np.loadtxt('data/data' + str(name) + '_train.csv')\n",
    "N = train.shape[0]\n",
    "X_train = train[:, 0:2]\n",
    "norm_mean = X_train.mean()\n",
    "norm_std = X_train.std()\n",
    "X_train = (X_train - norm_mean) / norm_std # normalization\n",
    "X_train = np.concatenate((X_train, 1.0 * np.ones([N, 1])), axis = 1) # need to concatenate 1 bias\n",
    "Y_temp = train[:, 2:3] \n",
    "label = np.unique(Y_temp)\n",
    "n_class = len(label)\n",
    "node.append(n_class)\n",
    "Y_train = np.zeros((N, n_class))\n",
    "for k in range(n_class):\n",
    "    class_pick = label[k]\n",
    "    temp = np.ones((N, 1))\n",
    "    temp = np.where(Y_temp == class_pick, temp, 0)\n",
    "    Y_train[:, k] = temp[:, 0]"
   ]
  },
  {
   "cell_type": "code",
   "execution_count": null,
   "metadata": {},
   "outputs": [],
   "source": [
    "def softmax(X, axis = None):\n",
    "    X_e = np.exp(X) # N x m\n",
    "    if axis == None:\n",
    "        return X_e / np.sum(X_e)\n",
    "    elif axis == 0:\n",
    "        return X_e / X_e.sum(axis = 0)\n",
    "    else:\n",
    "        return np.transpose(np.transpose(X_e) / np.transpose(X_e.sum(axis = 1))) "
   ]
  },
  {
   "cell_type": "code",
   "execution_count": null,
   "metadata": {},
   "outputs": [],
   "source": [
    "def SMpCE(X, Y, axis = None):\n",
    "    X_e = np.exp(X) # N x m\n",
    "    if axis == None:\n",
    "        SM = X_e / np.sum(X_e)\n",
    "    elif axis == 0:\n",
    "        SM = X_e / X_e.sum(axis = 0)\n",
    "    else:\n",
    "        SM = np.transpose(np.transpose(X_e) / np.transpose(X_e.sum(axis = 1))) \n",
    "    return -(Y * np.log(SM))"
   ]
  },
  {
   "cell_type": "code",
   "execution_count": null,
   "metadata": {},
   "outputs": [],
   "source": [
    "def relu(X):\n",
    "    return np.maximum(0, X)"
   ]
  },
  {
   "cell_type": "code",
   "execution_count": null,
   "metadata": {},
   "outputs": [],
   "source": [
    "def deri_cal(func_aim, X, Y, axis = None, scale = 1000):\n",
    "    X_max = X + 1 / scale\n",
    "    X_min = X - 1 / scale\n",
    "    return (func_aim(X_max, Y, axis) - func_aim(X_min, Y, axis)) * scale / 2"
   ]
  },
  {
   "cell_type": "code",
   "execution_count": null,
   "metadata": {},
   "outputs": [],
   "source": [
    "# train\n",
    "layer_num = hid_num + 1 # hidden+output\n",
    "W_all = deque(maxlen = layer_num)\n",
    "for j in range(iter_num):\n",
    "    delta_all = deque(maxlen = layer_num)\n",
    "    a_all = deque(maxlen = layer_num + 1)\n",
    "    z_all = deque(maxlen = layer_num)\n",
    "    # Forward Propagation\n",
    "    x_in = X_train.copy()\n",
    "    for i in range(layer_num):\n",
    "        a_all.append(x_in) # the earliest element is out\n",
    "        try:\n",
    "            W = W_all[i] # node[i-1] x node[i]\n",
    "        except:\n",
    "            W = np.reshape(np.random.normal(0.0, 1 / np.sqrt(N), x_in.shape[1] * node[i]), (x_in.shape[1], node[i]))   \n",
    "            W_all.append(W) # initialize\n",
    "        y_temp = np.dot(x_in, W) # N x node[i]\n",
    "        z_all.append(y_temp) # the earliest element is out\n",
    "        y_out = relu(y_temp) # N x node[i]\n",
    "        x_in = y_out.copy()\n",
    "    a_all.append(softmax(y_out, 1))\n",
    "    loss = np.sum(SMpCE(y_out, 1)) # final output\n",
    "    # Back Propagation\n",
    "    for i in range(layer_num - 1, -1, -1):\n",
    "        try:\n",
    "            delta = (z_all[i] > 0) * np.dot(delta_all[i - 1], np.transpose(W_all[i + 1])) # N x node[i]\n",
    "        except:\n",
    "            delta = (z_all[i] > 0) * deri_cal(SMpCE, a_all[i + 1], Y_train, 1) # N x node[i]\n",
    "        # renew W\n",
    "        W_all[i] = W_all[i] - alpha * np.dot(np.transpose(a_all[i]), delta)\n",
    "        delta_all.append(delta) # from output layer to input layer\n",
    "    if j % show_time == 0:\n",
    "        print('iteration = ' + str(j) + ',' + 'loss = ' + str(loss) + '\\n')"
   ]
  }
 ],
 "metadata": {
  "kernelspec": {
   "display_name": "Python 3",
   "language": "python",
   "name": "python3"
  },
  "language_info": {
   "codemirror_mode": {
    "name": "ipython",
    "version": 3
   },
   "file_extension": ".py",
   "mimetype": "text/x-python",
   "name": "python",
   "nbconvert_exporter": "python",
   "pygments_lexer": "ipython3",
   "version": "3.6.6"
  }
 },
 "nbformat": 4,
 "nbformat_minor": 2
}
